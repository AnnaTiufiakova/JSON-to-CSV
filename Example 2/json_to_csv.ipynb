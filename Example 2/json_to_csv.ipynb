{
 "cells": [
  {
   "cell_type": "markdown",
   "id": "1fd4e01f-3b91-4509-9387-d1c8216a84c5",
   "metadata": {},
   "source": [
    "# JSON to CSV"
   ]
  },
  {
   "cell_type": "markdown",
   "id": "692bf5c4-552e-4848-8a18-5c5a1d118c39",
   "metadata": {},
   "source": [
    "#to get and print API response"
   ]
  },
  {
   "cell_type": "code",
   "execution_count": 1,
   "id": "5c2d8a35-033a-48dd-a4af-15a0e0c9ad7e",
   "metadata": {},
   "outputs": [
    {
     "name": "stdout",
     "output_type": "stream",
     "text": [
      "[{'id': '1017652246', 'name': 'Python exam', 'description': '', 'created': '2023-09-26T00:47:57+0200', 'creatorToken': {'id': 638322, 'description': 'lchan@cuestapartners.com'}, 'version': 4, 'changeDescription': 'Change Print', 'isDisabled': False, 'isDeleted': False, 'configuration': {'parameters': {'blocks': [{'name': 'Block 1', 'codes': [{'name': 'Print', 'script': [\"print('Hello world!')\"]}]}]}, 'storage': {'input': {'tables': [{'source': 'in.c-interview_tables.companies', 'destination': 'companies.csv', 'where_column': '', 'where_values': [], 'where_operator': 'eq', 'columns': [], 'keep_internal_timestamp_column': False}, {'source': 'in.c-interview_tables.consumer_complaints', 'destination': 'consumer_complaints.csv', 'where_column': '', 'where_values': [], 'where_operator': 'eq', 'columns': [], 'keep_internal_timestamp_column': False}, {'source': 'in.c-interview_tables.product', 'destination': 'product.csv', 'where_column': '', 'where_values': [], 'where_operator': 'eq', 'columns': [], 'keep_internal_timestamp_column': False}]}}}, 'rowsSortOrder': [], 'rows': [], 'state': {}, 'currentVersion': {'created': '2023-09-26T00:48:18+0200', 'creatorToken': {'id': 638322, 'description': 'lchan@cuestapartners.com'}, 'changeDescription': 'Change Print', 'versionIdentifier': '01HB78EXMYNRGJD27N4CJG0B8F'}}, {'id': '1017660743', 'name': 'Exam part2', 'description': '', 'created': '2023-09-26T01:23:13+0200', 'creatorToken': {'id': 638322, 'description': 'lchan@cuestapartners.com'}, 'version': 4, 'changeDescription': 'Change Code block', 'isDisabled': False, 'isDeleted': False, 'configuration': {'parameters': {'blocks': [{'name': 'Block 1', 'codes': [{'name': 'Code block', 'script': ['# This block contains some serious data manipulation.']}]}]}, 'storage': {'input': {'tables': [{'source': 'in.c-interview.consumer_complaints', 'destination': 'consumer_complaints.csv', 'where_column': '', 'where_values': [], 'where_operator': 'eq', 'columns': [], 'keep_internal_timestamp_column': False}]}}}, 'rowsSortOrder': [], 'rows': [], 'state': {}, 'currentVersion': {'created': '2023-09-26T01:23:54+0200', 'creatorToken': {'id': 638322, 'description': 'lchan@cuestapartners.com'}, 'changeDescription': 'Change Code block', 'versionIdentifier': '01HB7AG2XNMVP6M5C8MXS13F2C'}}, {'id': '1095550933', 'name': 'Cuesta Interview - Data Analyst - Python', 'description': '', 'created': '2024-03-06T20:22:17+0100', 'creatorToken': {'id': 638322, 'description': 'lchan@cuestapartners.com'}, 'version': 5, 'changeDescription': 'Update input table in.c-interview_tables_data_analyst.fill_data', 'isDisabled': False, 'isDeleted': False, 'configuration': {'parameters': {'blocks': [{'name': 'Block 1', 'codes': []}]}, 'storage': {'input': {'tables': [{'source': 'in.c-interview_tables_data_analyst.fill_data', 'destination': 'order_data.csv', 'where_column': '', 'where_values': [], 'where_operator': 'eq', 'columns': [], 'keep_internal_timestamp_column': False}]}}}, 'rowsSortOrder': [], 'rows': [], 'state': {}, 'currentVersion': {'created': '2024-03-13T00:12:56+0100', 'creatorToken': {'id': 638322, 'description': 'lchan@cuestapartners.com'}, 'changeDescription': 'Update input table in.c-interview_tables_data_analyst.fill_data', 'versionIdentifier': '01HRTF1G38ATDQPCCECWH9MAA1'}}]\n"
     ]
    }
   ],
   "source": [
    "import requests\n",
    "import csv\n",
    "import uuid #to generate uuid\n",
    "import pandas as pd\n",
    "import os #to check extistense of the saved file\n",
    "\n",
    "url = \"https://connection.keboola.com/v2/storage/components/keboola.python-transformation-v2/configs\"\n",
    "header = {\n",
    "    \"X-StorageApi-Token\": \"9832-638325-OeNl9pQN0TKGlYaAetk7BWu4tNnZIORKHxNtCknG\",\n",
    "    \"Content-Type\": \"application/json\"\n",
    "}\n",
    "\n",
    "r = requests.get(url, headers=header)\n",
    "data_in =r.json()\n",
    "print(data_in)\n"
   ]
  },
  {
   "cell_type": "markdown",
   "id": "6cc440d7-3df8-4657-affb-a4f903942d56",
   "metadata": {},
   "source": [
    "#to create an empty list to store data there "
   ]
  },
  {
   "cell_type": "code",
   "execution_count": 2,
   "id": "973e58a3-e7f1-4f6d-8925-c55891a71dc8",
   "metadata": {},
   "outputs": [],
   "source": [
    "extracted_rows = []"
   ]
  },
  {
   "cell_type": "markdown",
   "id": "9822106b-c516-48d9-baf0-e0d525e2451d",
   "metadata": {},
   "source": [
    "#to extract tables from a nested dictionary (configuration >> storage >> input >> tables), then unpack string table into columns with **table "
   ]
  },
  {
   "cell_type": "code",
   "execution_count": 3,
   "id": "65eecd06-d053-4698-a62b-22363b1174ef",
   "metadata": {},
   "outputs": [],
   "source": [
    "for item in data_in:\n",
    "    tables = item.get(\"configuration\", {}).get(\"storage\", {}).get(\"input\", {}).get(\"tables\", [])\n",
    "    component_id = item.get(\"id\")\n",
    "\n",
    "    for table in tables:\n",
    "        extracted_rows.append({\n",
    "            **table, \n",
    "            \"component_id\":component_id\n",
    "        })"
   ]
  },
  {
   "cell_type": "markdown",
   "id": "d9426222-2794-4bcc-bec5-0f143b8397e4",
   "metadata": {},
   "source": [
    "#to change rows into DataFrame and to display the columns in the expected table"
   ]
  },
  {
   "cell_type": "code",
   "execution_count": 4,
   "id": "19657563-0f3c-429d-89fd-4bd1eba17ee1",
   "metadata": {},
   "outputs": [
    {
     "name": "stdout",
     "output_type": "stream",
     "text": [
      "['source', 'destination', 'where_column', 'where_values', 'where_operator', 'columns', 'keep_internal_timestamp_column', 'component_id']\n"
     ]
    }
   ],
   "source": [
    "df = pd.DataFrame(extracted_rows)\n",
    "print(df.columns.tolist())"
   ]
  },
  {
   "cell_type": "markdown",
   "id": "1c40890b-dfe6-4e6b-a738-be13f2ab1391",
   "metadata": {},
   "source": [
    "#to add column with uuid"
   ]
  },
  {
   "cell_type": "code",
   "execution_count": 5,
   "id": "a6b3faea-4fa0-44c5-8062-41e9ab7bcb65",
   "metadata": {},
   "outputs": [],
   "source": [
    "df['id'] = [str(uuid.uuid4()) for _ in range(len(df))]"
   ]
  },
  {
   "cell_type": "markdown",
   "id": "c95e09e1-9d3b-40d3-ae74-f771f17a64c0",
   "metadata": {},
   "source": [
    "#to display the columns in the expected table"
   ]
  },
  {
   "cell_type": "code",
   "execution_count": 6,
   "id": "d5a4239d-55ca-438e-965d-ee858bf992f4",
   "metadata": {},
   "outputs": [
    {
     "name": "stdout",
     "output_type": "stream",
     "text": [
      "['source', 'destination', 'where_column', 'where_values', 'where_operator', 'columns', 'keep_internal_timestamp_column', 'component_id', 'id']\n"
     ]
    }
   ],
   "source": [
    "print(df.columns.tolist())"
   ]
  },
  {
   "cell_type": "markdown",
   "id": "dbdcca86-2fd4-4d71-ac36-0a56196a8910",
   "metadata": {},
   "source": [
    "#to save dataframe to a CSV file"
   ]
  },
  {
   "cell_type": "code",
   "execution_count": 7,
   "id": "0f2f612c-fc87-4470-bcc4-c9d097dfa41f",
   "metadata": {},
   "outputs": [
    {
     "name": "stdout",
     "output_type": "stream",
     "text": [
      "Data extracted successfully\n",
      "File save successfully\n"
     ]
    }
   ],
   "source": [
    "df.to_csv(\"result_table.csv\", index=False)\n",
    "if not df.empty:\n",
    "    print(\"Data extracted successfully\")\n",
    "    if os.path.exists(\"result_table.csv\"):\n",
    "        print(\"File save successfully\")\n",
    "    else:\n",
    "        print(\"No csv saved\")\n",
    "else:\n",
    "    print(\"No data extracted\")"
   ]
  },
  {
   "cell_type": "code",
   "execution_count": null,
   "id": "33955e33-a4a0-44dc-9c4b-8b7a7e6166bc",
   "metadata": {},
   "outputs": [],
   "source": []
  }
 ],
 "metadata": {
  "kernelspec": {
   "display_name": "Python 3 (ipykernel)",
   "language": "python",
   "name": "python3"
  },
  "language_info": {
   "codemirror_mode": {
    "name": "ipython",
    "version": 3
   },
   "file_extension": ".py",
   "mimetype": "text/x-python",
   "name": "python",
   "nbconvert_exporter": "python",
   "pygments_lexer": "ipython3",
   "version": "3.13.2"
  }
 },
 "nbformat": 4,
 "nbformat_minor": 5
}
